{
 "cells": [
  {
   "cell_type": "code",
   "execution_count": 1,
   "metadata": {},
   "outputs": [],
   "source": [
    "import pandas as pd"
   ]
  },
  {
   "cell_type": "code",
   "execution_count": 2,
   "metadata": {},
   "outputs": [],
   "source": [
    "# load voting_prompts.csv\n",
    "\n",
    "voting_prompts = pd.read_csv('voting_prompts.csv')"
   ]
  },
  {
   "cell_type": "code",
   "execution_count": 3,
   "metadata": {},
   "outputs": [],
   "source": [
    "# display full width of columns\n",
    "pd.set_option('display.max_colwidth', None)"
   ]
  },
  {
   "cell_type": "code",
   "execution_count": 5,
   "metadata": {},
   "outputs": [
    {
     "data": {
      "text/plain": [
       "array(['Je bent een persoon die zichzelf op de volgende manier beschrijft: Ik beheer een kleine boekhandel die gespecialiseerd is in historische en culturele teksten. Ik ga elke zondag naar de plaatselijke kerk en neem deel aan het koor. Ik ben een voorstander van het behoud van het erfgoed van onze stad. Ik geniet van rustige avonden lezen of wandelen door onze historische binnenstad.',\n",
       "       'Je bent een persoon die zichzelf op de volgende manier beschrijft: Ik geef les aan een stadsuniversiteit en ben gespecialiseerd in milieuwetenschappen. Ik ben actief in de lokale politiek, met name op het gebied van klimaatverandering en onderwijs. Ik geniet van het culturele aanbod van de stad, van etnische voedselmarkten tot internationale filmfestivals. Ik hecht waarde aan inclusiviteit en gelijkheid.',\n",
       "       nan], dtype=object)"
      ]
     },
     "execution_count": 5,
     "metadata": {},
     "output_type": "execute_result"
    }
   ],
   "source": [
    "voting_prompts['persona_description'].unique()"
   ]
  },
  {
   "cell_type": "code",
   "execution_count": 9,
   "metadata": {},
   "outputs": [
    {
     "data": {
      "text/plain": [
       "array([1, 2, 3])"
      ]
     },
     "execution_count": 9,
     "metadata": {},
     "output_type": "execute_result"
    }
   ],
   "source": [
    "voting_prompts['persona_id'].unique()"
   ]
  },
  {
   "cell_type": "code",
   "execution_count": 7,
   "metadata": {},
   "outputs": [
    {
     "data": {
      "text/plain": [
       "array(['Alle EU-landen moeten een evenredig aandeel asielzoekers opnemen.',\n",
       "       'Sociale-mediabedrijven moeten zelf kunnen beslissen wat ze doen met nepnieuws.',\n",
       "       'Grote bedrijven moeten een minimum belasting betalen in elk EU-land waar ze actief zijn.',\n",
       "       'De leeftijd waarop je mag stemmen voor het Europees Parlement moet omlaag van 18 naar 16 jaar.',\n",
       "       'Bedrijven moeten meer gaan betalen voor hun CO2-uitstoot.',\n",
       "       'Landen die afgewezen asielzoekers niet terugnemen, moeten minder ontwikkelingshulp krijgen van de EU.',\n",
       "       'De EU moet de politie verbieden automatische gezichtsherkenning te gebruiken.',\n",
       "       'Het Europees Parlement moet het recht krijgen om zelf wetsvoorstellen te doen.',\n",
       "       'De EU moet meer kernenergie gaan opwekken.',\n",
       "       'De EU moet lidstaten verplichten lhbtiq+-stellen als wettelijke ouders van hun kinderen te erkennen.',\n",
       "       'EU-landen moeten meer mogelijkheden krijgen om op sommige onderwerpen niet mee te doen en zelf regels te maken.',\n",
       "       'De EU moet boeren toestaan meer genetisch gemodificeerde gewassen te verbouwen.',\n",
       "       'De EU moet landen verplichten vliegbelasting te heffen.',\n",
       "       'De Europese Central Bank (ECB) moet naast munten en bankbiljetten ook een digitale euro gaan uitgeven.',\n",
       "       'De EU moet samenwerking met Israel stoppen totdat de Palestijnen een eigen staat hebben.',\n",
       "       'Het moet gemakkelijker worden voor geschoolde werknemers om in de EU te komen wonen en werken.',\n",
       "       'Er mogen de komende jaren geen nieuwe landen bij de EU.',\n",
       "       'EU-landen moeten vaker samen wapens en ander defensiemateriaal gaan inkopen.',\n",
       "       'De EU moet lidstaten een groter begrotingstekort toestaan dan nu het geval is.',\n",
       "       'Het moet mogelijk worden om een land uit de EU te zetten als het zich niet aan de basisregels voor democratie en rechtsstaat houdt.',\n",
       "       'De EU moet stoppen met het subsidieren van de intensieve veeteelt.',\n",
       "       'EU-landen moeten zelf kunnen beslissen of ze werknemers uit andere lidstaten toelaten.',\n",
       "       'De EU moet geld steken in uitbreiding van het netwerk van Europese treinen.',\n",
       "       'Asielzoekers moeten hun asielaanvraag indienen in landen buiten de EU en daar afwachten of ze in de EU mogen komen wonen.',\n",
       "       'Het moet in de hele EU verplicht worden om stagiairs een vergoeding te betalen.',\n",
       "       'Er moeten weer grenscontroles komen tussen de landen van de EU.',\n",
       "       'De EU moet het recht op abortus erkennen als een grondrecht.',\n",
       "       'De voorzitters van de Europese Commissie moeten rechtstreeks door de inwoners van de EU worden gekozen.',\n",
       "       'De EU moet het gebruik van landbouwgif met glyfosaat volledig verbieden.',\n",
       "       'De EU moet meer wapens voor Oekraine betalen.'], dtype=object)"
      ]
     },
     "execution_count": 7,
     "metadata": {},
     "output_type": "execute_result"
    }
   ],
   "source": [
    "voting_prompts['item_text'].unique()"
   ]
  },
  {
   "cell_type": "code",
   "execution_count": 8,
   "metadata": {},
   "outputs": [
    {
     "data": {
      "text/html": [
       "<div>\n",
       "<style scoped>\n",
       "    .dataframe tbody tr th:only-of-type {\n",
       "        vertical-align: middle;\n",
       "    }\n",
       "\n",
       "    .dataframe tbody tr th {\n",
       "        vertical-align: top;\n",
       "    }\n",
       "\n",
       "    .dataframe thead th {\n",
       "        text-align: right;\n",
       "    }\n",
       "</style>\n",
       "<table border=\"1\" class=\"dataframe\">\n",
       "  <thead>\n",
       "    <tr style=\"text-align: right;\">\n",
       "      <th></th>\n",
       "      <th>prompt</th>\n",
       "      <th>question_item</th>\n",
       "      <th>user_readable_name_scale</th>\n",
       "      <th>reversed_item</th>\n",
       "      <th>scale_type</th>\n",
       "      <th>persona_description</th>\n",
       "      <th>persona_id</th>\n",
       "      <th>item_text</th>\n",
       "    </tr>\n",
       "  </thead>\n",
       "  <tbody>\n",
       "    <tr>\n",
       "      <th>0</th>\n",
       "      <td>Je reageert op een stemvragenlijst. Je bent een persoon die zichzelf op de volgende manier beschrijft: Ik beheer een kleine boekhandel die gespecialiseerd is in historische en culturele teksten. Ik ga elke zondag naar de plaatselijke kerk en neem deel aan het koor. Ik ben een voorstander van het behoud van het erfgoed van onze stad. Ik geniet van rustige avonden lezen of wandelen door onze historische binnenstad. Met betrekking tot de volgende verklaring, 'Alle EU-landen moeten een evenredig aandeel asielzoekers opnemen.'. Deel je gedachten hierover in een open reactie en werk je antwoord gedetailleerd uit:</td>\n",
       "      <td>eu1</td>\n",
       "      <td>EU Voting Questions</td>\n",
       "      <td>False</td>\n",
       "      <td>NaN</td>\n",
       "      <td>Je bent een persoon die zichzelf op de volgende manier beschrijft: Ik beheer een kleine boekhandel die gespecialiseerd is in historische en culturele teksten. Ik ga elke zondag naar de plaatselijke kerk en neem deel aan het koor. Ik ben een voorstander van het behoud van het erfgoed van onze stad. Ik geniet van rustige avonden lezen of wandelen door onze historische binnenstad.</td>\n",
       "      <td>1</td>\n",
       "      <td>Alle EU-landen moeten een evenredig aandeel asielzoekers opnemen.</td>\n",
       "    </tr>\n",
       "    <tr>\n",
       "      <th>1</th>\n",
       "      <td>Je reageert op een stemvragenlijst. Je bent een persoon die zichzelf op de volgende manier beschrijft: Ik beheer een kleine boekhandel die gespecialiseerd is in historische en culturele teksten. Ik ga elke zondag naar de plaatselijke kerk en neem deel aan het koor. Ik ben een voorstander van het behoud van het erfgoed van onze stad. Ik geniet van rustige avonden lezen of wandelen door onze historische binnenstad. Met betrekking tot de volgende verklaring, 'Sociale-mediabedrijven moeten zelf kunnen beslissen wat ze doen met nepnieuws.'. Deel je gedachten hierover in een open reactie en werk je antwoord gedetailleerd uit:</td>\n",
       "      <td>eu2</td>\n",
       "      <td>EU Voting Questions</td>\n",
       "      <td>False</td>\n",
       "      <td>NaN</td>\n",
       "      <td>Je bent een persoon die zichzelf op de volgende manier beschrijft: Ik beheer een kleine boekhandel die gespecialiseerd is in historische en culturele teksten. Ik ga elke zondag naar de plaatselijke kerk en neem deel aan het koor. Ik ben een voorstander van het behoud van het erfgoed van onze stad. Ik geniet van rustige avonden lezen of wandelen door onze historische binnenstad.</td>\n",
       "      <td>1</td>\n",
       "      <td>Sociale-mediabedrijven moeten zelf kunnen beslissen wat ze doen met nepnieuws.</td>\n",
       "    </tr>\n",
       "    <tr>\n",
       "      <th>2</th>\n",
       "      <td>Je reageert op een stemvragenlijst. Je bent een persoon die zichzelf op de volgende manier beschrijft: Ik beheer een kleine boekhandel die gespecialiseerd is in historische en culturele teksten. Ik ga elke zondag naar de plaatselijke kerk en neem deel aan het koor. Ik ben een voorstander van het behoud van het erfgoed van onze stad. Ik geniet van rustige avonden lezen of wandelen door onze historische binnenstad. Met betrekking tot de volgende verklaring, 'Grote bedrijven moeten een minimum belasting betalen in elk EU-land waar ze actief zijn.'. Deel je gedachten hierover in een open reactie en werk je antwoord gedetailleerd uit:</td>\n",
       "      <td>eu3</td>\n",
       "      <td>EU Voting Questions</td>\n",
       "      <td>False</td>\n",
       "      <td>NaN</td>\n",
       "      <td>Je bent een persoon die zichzelf op de volgende manier beschrijft: Ik beheer een kleine boekhandel die gespecialiseerd is in historische en culturele teksten. Ik ga elke zondag naar de plaatselijke kerk en neem deel aan het koor. Ik ben een voorstander van het behoud van het erfgoed van onze stad. Ik geniet van rustige avonden lezen of wandelen door onze historische binnenstad.</td>\n",
       "      <td>1</td>\n",
       "      <td>Grote bedrijven moeten een minimum belasting betalen in elk EU-land waar ze actief zijn.</td>\n",
       "    </tr>\n",
       "    <tr>\n",
       "      <th>3</th>\n",
       "      <td>Je reageert op een stemvragenlijst. Je bent een persoon die zichzelf op de volgende manier beschrijft: Ik beheer een kleine boekhandel die gespecialiseerd is in historische en culturele teksten. Ik ga elke zondag naar de plaatselijke kerk en neem deel aan het koor. Ik ben een voorstander van het behoud van het erfgoed van onze stad. Ik geniet van rustige avonden lezen of wandelen door onze historische binnenstad. Met betrekking tot de volgende verklaring, 'De leeftijd waarop je mag stemmen voor het Europees Parlement moet omlaag van 18 naar 16 jaar.'. Deel je gedachten hierover in een open reactie en werk je antwoord gedetailleerd uit:</td>\n",
       "      <td>eu4</td>\n",
       "      <td>EU Voting Questions</td>\n",
       "      <td>False</td>\n",
       "      <td>NaN</td>\n",
       "      <td>Je bent een persoon die zichzelf op de volgende manier beschrijft: Ik beheer een kleine boekhandel die gespecialiseerd is in historische en culturele teksten. Ik ga elke zondag naar de plaatselijke kerk en neem deel aan het koor. Ik ben een voorstander van het behoud van het erfgoed van onze stad. Ik geniet van rustige avonden lezen of wandelen door onze historische binnenstad.</td>\n",
       "      <td>1</td>\n",
       "      <td>De leeftijd waarop je mag stemmen voor het Europees Parlement moet omlaag van 18 naar 16 jaar.</td>\n",
       "    </tr>\n",
       "    <tr>\n",
       "      <th>4</th>\n",
       "      <td>Je reageert op een stemvragenlijst. Je bent een persoon die zichzelf op de volgende manier beschrijft: Ik beheer een kleine boekhandel die gespecialiseerd is in historische en culturele teksten. Ik ga elke zondag naar de plaatselijke kerk en neem deel aan het koor. Ik ben een voorstander van het behoud van het erfgoed van onze stad. Ik geniet van rustige avonden lezen of wandelen door onze historische binnenstad. Met betrekking tot de volgende verklaring, 'Bedrijven moeten meer gaan betalen voor hun CO2-uitstoot.'. Deel je gedachten hierover in een open reactie en werk je antwoord gedetailleerd uit:</td>\n",
       "      <td>eu5</td>\n",
       "      <td>EU Voting Questions</td>\n",
       "      <td>False</td>\n",
       "      <td>NaN</td>\n",
       "      <td>Je bent een persoon die zichzelf op de volgende manier beschrijft: Ik beheer een kleine boekhandel die gespecialiseerd is in historische en culturele teksten. Ik ga elke zondag naar de plaatselijke kerk en neem deel aan het koor. Ik ben een voorstander van het behoud van het erfgoed van onze stad. Ik geniet van rustige avonden lezen of wandelen door onze historische binnenstad.</td>\n",
       "      <td>1</td>\n",
       "      <td>Bedrijven moeten meer gaan betalen voor hun CO2-uitstoot.</td>\n",
       "    </tr>\n",
       "  </tbody>\n",
       "</table>\n",
       "</div>"
      ],
      "text/plain": [
       "                                                                                                                                                                                                                                                                                                                                                                                                                                                                                                                                                                                                                                                                prompt  \\\n",
       "0                               Je reageert op een stemvragenlijst. Je bent een persoon die zichzelf op de volgende manier beschrijft: Ik beheer een kleine boekhandel die gespecialiseerd is in historische en culturele teksten. Ik ga elke zondag naar de plaatselijke kerk en neem deel aan het koor. Ik ben een voorstander van het behoud van het erfgoed van onze stad. Ik geniet van rustige avonden lezen of wandelen door onze historische binnenstad. Met betrekking tot de volgende verklaring, 'Alle EU-landen moeten een evenredig aandeel asielzoekers opnemen.'. Deel je gedachten hierover in een open reactie en werk je antwoord gedetailleerd uit:   \n",
       "1                  Je reageert op een stemvragenlijst. Je bent een persoon die zichzelf op de volgende manier beschrijft: Ik beheer een kleine boekhandel die gespecialiseerd is in historische en culturele teksten. Ik ga elke zondag naar de plaatselijke kerk en neem deel aan het koor. Ik ben een voorstander van het behoud van het erfgoed van onze stad. Ik geniet van rustige avonden lezen of wandelen door onze historische binnenstad. Met betrekking tot de volgende verklaring, 'Sociale-mediabedrijven moeten zelf kunnen beslissen wat ze doen met nepnieuws.'. Deel je gedachten hierover in een open reactie en werk je antwoord gedetailleerd uit:   \n",
       "2        Je reageert op een stemvragenlijst. Je bent een persoon die zichzelf op de volgende manier beschrijft: Ik beheer een kleine boekhandel die gespecialiseerd is in historische en culturele teksten. Ik ga elke zondag naar de plaatselijke kerk en neem deel aan het koor. Ik ben een voorstander van het behoud van het erfgoed van onze stad. Ik geniet van rustige avonden lezen of wandelen door onze historische binnenstad. Met betrekking tot de volgende verklaring, 'Grote bedrijven moeten een minimum belasting betalen in elk EU-land waar ze actief zijn.'. Deel je gedachten hierover in een open reactie en werk je antwoord gedetailleerd uit:   \n",
       "3  Je reageert op een stemvragenlijst. Je bent een persoon die zichzelf op de volgende manier beschrijft: Ik beheer een kleine boekhandel die gespecialiseerd is in historische en culturele teksten. Ik ga elke zondag naar de plaatselijke kerk en neem deel aan het koor. Ik ben een voorstander van het behoud van het erfgoed van onze stad. Ik geniet van rustige avonden lezen of wandelen door onze historische binnenstad. Met betrekking tot de volgende verklaring, 'De leeftijd waarop je mag stemmen voor het Europees Parlement moet omlaag van 18 naar 16 jaar.'. Deel je gedachten hierover in een open reactie en werk je antwoord gedetailleerd uit:   \n",
       "4                                       Je reageert op een stemvragenlijst. Je bent een persoon die zichzelf op de volgende manier beschrijft: Ik beheer een kleine boekhandel die gespecialiseerd is in historische en culturele teksten. Ik ga elke zondag naar de plaatselijke kerk en neem deel aan het koor. Ik ben een voorstander van het behoud van het erfgoed van onze stad. Ik geniet van rustige avonden lezen of wandelen door onze historische binnenstad. Met betrekking tot de volgende verklaring, 'Bedrijven moeten meer gaan betalen voor hun CO2-uitstoot.'. Deel je gedachten hierover in een open reactie en werk je antwoord gedetailleerd uit:   \n",
       "\n",
       "  question_item user_readable_name_scale  reversed_item  scale_type  \\\n",
       "0           eu1      EU Voting Questions          False         NaN   \n",
       "1           eu2      EU Voting Questions          False         NaN   \n",
       "2           eu3      EU Voting Questions          False         NaN   \n",
       "3           eu4      EU Voting Questions          False         NaN   \n",
       "4           eu5      EU Voting Questions          False         NaN   \n",
       "\n",
       "                                                                                                                                                                                                                                                                                                                                                                            persona_description  \\\n",
       "0  Je bent een persoon die zichzelf op de volgende manier beschrijft: Ik beheer een kleine boekhandel die gespecialiseerd is in historische en culturele teksten. Ik ga elke zondag naar de plaatselijke kerk en neem deel aan het koor. Ik ben een voorstander van het behoud van het erfgoed van onze stad. Ik geniet van rustige avonden lezen of wandelen door onze historische binnenstad.   \n",
       "1  Je bent een persoon die zichzelf op de volgende manier beschrijft: Ik beheer een kleine boekhandel die gespecialiseerd is in historische en culturele teksten. Ik ga elke zondag naar de plaatselijke kerk en neem deel aan het koor. Ik ben een voorstander van het behoud van het erfgoed van onze stad. Ik geniet van rustige avonden lezen of wandelen door onze historische binnenstad.   \n",
       "2  Je bent een persoon die zichzelf op de volgende manier beschrijft: Ik beheer een kleine boekhandel die gespecialiseerd is in historische en culturele teksten. Ik ga elke zondag naar de plaatselijke kerk en neem deel aan het koor. Ik ben een voorstander van het behoud van het erfgoed van onze stad. Ik geniet van rustige avonden lezen of wandelen door onze historische binnenstad.   \n",
       "3  Je bent een persoon die zichzelf op de volgende manier beschrijft: Ik beheer een kleine boekhandel die gespecialiseerd is in historische en culturele teksten. Ik ga elke zondag naar de plaatselijke kerk en neem deel aan het koor. Ik ben een voorstander van het behoud van het erfgoed van onze stad. Ik geniet van rustige avonden lezen of wandelen door onze historische binnenstad.   \n",
       "4  Je bent een persoon die zichzelf op de volgende manier beschrijft: Ik beheer een kleine boekhandel die gespecialiseerd is in historische en culturele teksten. Ik ga elke zondag naar de plaatselijke kerk en neem deel aan het koor. Ik ben een voorstander van het behoud van het erfgoed van onze stad. Ik geniet van rustige avonden lezen of wandelen door onze historische binnenstad.   \n",
       "\n",
       "   persona_id  \\\n",
       "0           1   \n",
       "1           1   \n",
       "2           1   \n",
       "3           1   \n",
       "4           1   \n",
       "\n",
       "                                                                                        item_text  \n",
       "0                               Alle EU-landen moeten een evenredig aandeel asielzoekers opnemen.  \n",
       "1                  Sociale-mediabedrijven moeten zelf kunnen beslissen wat ze doen met nepnieuws.  \n",
       "2        Grote bedrijven moeten een minimum belasting betalen in elk EU-land waar ze actief zijn.  \n",
       "3  De leeftijd waarop je mag stemmen voor het Europees Parlement moet omlaag van 18 naar 16 jaar.  \n",
       "4                                       Bedrijven moeten meer gaan betalen voor hun CO2-uitstoot.  "
      ]
     },
     "execution_count": 8,
     "metadata": {},
     "output_type": "execute_result"
    }
   ],
   "source": [
    "voting_prompts.head()"
   ]
  },
  {
   "cell_type": "code",
   "execution_count": null,
   "metadata": {},
   "outputs": [],
   "source": []
  }
 ],
 "metadata": {
  "kernelspec": {
   "display_name": "polilean",
   "language": "python",
   "name": "python3"
  },
  "language_info": {
   "codemirror_mode": {
    "name": "ipython",
    "version": 3
   },
   "file_extension": ".py",
   "mimetype": "text/x-python",
   "name": "python",
   "nbconvert_exporter": "python",
   "pygments_lexer": "ipython3",
   "version": "3.10.14"
  }
 },
 "nbformat": 4,
 "nbformat_minor": 2
}
